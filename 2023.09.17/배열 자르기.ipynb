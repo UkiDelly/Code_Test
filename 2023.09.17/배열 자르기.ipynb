{
 "cells": [
  {
   "cell_type": "markdown",
   "metadata": {},
   "source": [
    "# 배열 자르기\n",
    "\n",
    "정수 배열 arr와 query가 주어집니다. <br>\n",
    "\n",
    "query를 순회하면서 다음 작업을 반복합니다. <br>\n",
    "\n",
    "짝수 인덱스에서는 arr에서 query[i]번 인덱스를 제외하고 배열의 query[i]번 인덱스 뒷부분을 잘라서 버립니다. <br>\n",
    "홀수 인덱스에서는 arr에서 query[i]번 인덱스는 제외하고 배열의 query[i]번 인덱스 앞부분을 잘라서 버립니다. <br>\n",
    "위 작업을 마친 후 남은 arr의 부분 배열을 return 하는 solution 함수를 완성해 주세요\n"
   ]
  },
  {
   "cell_type": "code",
   "execution_count": 2,
   "metadata": {},
   "outputs": [
    {
     "name": "stdout",
     "output_type": "stream",
     "text": [
      "[1, 2, 3]\n"
     ]
    }
   ],
   "source": [
    "def solution(arr: list[int], query: list[int]):\n",
    "    for index, value in enumerate(query):\n",
    "        if index % 2 == 0:\n",
    "            arr = arr[: value + 1]\n",
    "        else:\n",
    "            arr = arr[value:]\n",
    "    return arr\n",
    "\n",
    "\n",
    "print(solution([0, 1, 2, 3, 4, 5], [4, 1, 2]))"
   ]
  }
 ],
 "metadata": {
  "kernelspec": {
   "display_name": "venv",
   "language": "python",
   "name": "python3"
  },
  "language_info": {
   "codemirror_mode": {
    "name": "ipython",
    "version": 3
   },
   "file_extension": ".py",
   "mimetype": "text/x-python",
   "name": "python",
   "nbconvert_exporter": "python",
   "pygments_lexer": "ipython3",
   "version": "3.11.5"
  },
  "orig_nbformat": 4
 },
 "nbformat": 4,
 "nbformat_minor": 2
}
