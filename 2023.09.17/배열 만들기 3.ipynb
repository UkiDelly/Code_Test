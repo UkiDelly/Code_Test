{
 "cells": [
  {
   "cell_type": "markdown",
   "metadata": {},
   "source": [
    "# 배열 만들기 3\n",
    "\n",
    "정수 배열 arr와 2개의 구간이 담긴 배열 intervals가 주어집니다.<br>\n",
    "intervals는 항상 [[a1, b1], [a2, b2]]의 꼴로 주어지며 각 구간은 닫힌 구간입니다.<br>\n",
    "닫힌 구간은 양 끝값과 그 사이의 값을 모두 포함하는 구간을 의미합니다.<br>\n",
    "이때 배열 arr의 첫 번째 구간에 해당하는 배열과 두 번째 구간에 해당하는 배열을 앞뒤로 붙여 새로운 배열을 만들어 return 하는 solution 함수를 완성해 주세요\n"
   ]
  },
  {
   "cell_type": "code",
   "execution_count": 2,
   "metadata": {},
   "outputs": [
    {
     "name": "stdout",
     "output_type": "stream",
     "text": [
      "[2, 3, 4, 1, 2, 3, 4, 5]\n",
      "None\n"
     ]
    }
   ],
   "source": [
    "def solution(arr: list[int], intervals: list[list[int]]):\n",
    "    answer = []\n",
    "    for interval in intervals:\n",
    "        start, end = interval\n",
    "        answer += arr[start : end + 1]\n",
    "    return answer\n",
    "\n",
    "\n",
    "print(solution([1, 2, 3, 4, 5], [[1, 3], [0, 4]]))"
   ]
  }
 ],
 "metadata": {
  "kernelspec": {
   "display_name": "venv",
   "language": "python",
   "name": "python3"
  },
  "language_info": {
   "codemirror_mode": {
    "name": "ipython",
    "version": 3
   },
   "file_extension": ".py",
   "mimetype": "text/x-python",
   "name": "python",
   "nbconvert_exporter": "python",
   "pygments_lexer": "ipython3",
   "version": "3.11.5"
  },
  "orig_nbformat": 4
 },
 "nbformat": 4,
 "nbformat_minor": 2
}
