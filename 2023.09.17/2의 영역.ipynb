{
 "cells": [
  {
   "cell_type": "markdown",
   "metadata": {},
   "source": [
    "# 2의 영역\n",
    "\n",
    "정수 배열 arr가 주어집니다. 배열 안의 2가 모두 포함된 가장 작은 연속된 부분 배열을 return 하는 solution 함수를 완성해 주세요.<br>\n",
    "단, arr에 2가 없는 경우 [-1]을 return 합니다.\n"
   ]
  },
  {
   "cell_type": "code",
   "execution_count": 2,
   "metadata": {},
   "outputs": [
    {
     "name": "stdout",
     "output_type": "stream",
     "text": [
      "[]\n"
     ]
    }
   ],
   "source": [
    "def solution(arr: list[int]):\n",
    "    try:\n",
    "        first = arr.index(2)\n",
    "        end = 0\n",
    "        for i in range(len(arr)):\n",
    "            if arr[i] == 2:\n",
    "                end = i\n",
    "        return arr[first : end + 1]\n",
    "\n",
    "    except ValueError:\n",
    "        return [-1]\n",
    "\n",
    "\n",
    "print(solution([1, 2, 1, 4, 5, 2, 9]))\n",
    "print(solution([1, 2, 1]))\n",
    "print(solution([1, 1, 1]))\n",
    "print(solution([1, 2, 1, 2, 1, 10, 2, 1]))"
   ]
  },
  {
   "cell_type": "code",
   "execution_count": null,
   "metadata": {},
   "outputs": [],
   "source": [
    "# 다른 대답\n",
    "def solution(arr):\n",
    "    # 2가 존재 하지 않는다면 [-1]를 반환\n",
    "    if 2 not in arr:\n",
    "        return [-1]\n",
    "\n",
    "    # arr[ 2가 발견된 첫번째 인덱스 : (arr의 전체 길이 -  arr를 역순으로 바꾸고 찾은 첫번째의 인덱스) ]\n",
    "    return arr[arr.index(2) : len(arr) - arr[::-1].index(2)]"
   ]
  }
 ],
 "metadata": {
  "kernelspec": {
   "display_name": "venv",
   "language": "python",
   "name": "python3"
  },
  "language_info": {
   "codemirror_mode": {
    "name": "ipython",
    "version": 3
   },
   "file_extension": ".py",
   "mimetype": "text/x-python",
   "name": "python",
   "nbconvert_exporter": "python",
   "pygments_lexer": "ipython3",
   "version": "3.11.5"
  },
  "orig_nbformat": 4
 },
 "nbformat": 4,
 "nbformat_minor": 2
}
