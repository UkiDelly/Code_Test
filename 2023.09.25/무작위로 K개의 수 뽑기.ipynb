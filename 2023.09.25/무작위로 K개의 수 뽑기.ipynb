{
 "cells": [
  {
   "cell_type": "markdown",
   "metadata": {},
   "source": [
    "# 무작위로 K개의 수 뽑기\n",
    "\n",
    "랜덤으로 서로 다른 k개의 수를 저장한 배열을 만드려고 합니다. <br>\n",
    "적절한 방법이 떠오르지 않기 때문에 일정한 범위 내에서 무작위로 수를 뽑은 후, 지금까지 나온적이 없는 수이면 배열 맨 뒤에 추가하는 방식으로 만들기로 합니다.\n",
    "\n",
    "이미 어떤 수가 무작위로 주어질지 알고 있다고 가정하고, 실제 만들어질 길이 k의 배열을 예상해봅시다.\n",
    "\n",
    "정수 배열 arr가 주어집니다. 문제에서의 무작위의 수는 arr에 저장된 순서대로 주어질 예정이라고 했을 때, 완성될 배열을 return 하는 solution 함수를 완성해 주세요.\n",
    "\n",
    "단, 완성될 배열의 길이가 k보다 작으면 나머지 값을 전부 -1로 채워서 return 합니다.\n"
   ]
  },
  {
   "cell_type": "code",
   "execution_count": 9,
   "metadata": {},
   "outputs": [
    {
     "name": "stdout",
     "output_type": "stream",
     "text": [
      "[0, 1, -1, -1]\n"
     ]
    }
   ],
   "source": [
    "def solution(arr: list[int], k: int):\n",
    "    answer = sorted(list(set(arr)))\n",
    "    # for i in arr:\n",
    "    #     if i not in answer:\n",
    "    #         answer.append(i)\n",
    "    #     else:\n",
    "    #         continue\n",
    "    l = len(answer)\n",
    "\n",
    "    if l < k:\n",
    "        answer.extend([-1] * (k - l))\n",
    "        return answer\n",
    "    else:\n",
    "        return answer[:k]\n",
    "\n",
    "\n",
    "print(solution([0, 1, 1, 1, 1], 4))"
   ]
  }
 ],
 "metadata": {
  "kernelspec": {
   "display_name": "venv",
   "language": "python",
   "name": "python3"
  },
  "language_info": {
   "codemirror_mode": {
    "name": "ipython",
    "version": 3
   },
   "file_extension": ".py",
   "mimetype": "text/x-python",
   "name": "python",
   "nbconvert_exporter": "python",
   "pygments_lexer": "ipython3",
   "version": "3.11.5"
  },
  "orig_nbformat": 4
 },
 "nbformat": 4,
 "nbformat_minor": 2
}
