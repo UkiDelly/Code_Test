{
 "cells": [
  {
   "cell_type": "markdown",
   "metadata": {},
   "source": [
    "# 세로 읽기\n",
    "\n",
    "문자열 my_string과 두 정수 m, c가 주어집니다.<br>\n",
    "my_string을 한 줄에 m 글자씩 가로로 적었을 때 왼쪽부터 세로로 c번째 열에 적힌 글자들을 문자열로 return 하는 solution 함수를 작성해 주세요.\n"
   ]
  },
  {
   "cell_type": "code",
   "execution_count": 19,
   "metadata": {},
   "outputs": [
    {
     "name": "stdout",
     "output_type": "stream",
     "text": [
      "happy\n"
     ]
    }
   ],
   "source": [
    "def solution(my_string: str, m: int, c: int):\n",
    "    tmp = []\n",
    "    while len(my_string) > 1:\n",
    "        tmp.append(my_string[:m])\n",
    "        my_string = my_string[m:]\n",
    "\n",
    "    answer = \"\".join(i[c - 1] for i in tmp)\n",
    "    return answer\n",
    "\n",
    "\n",
    "print(solution(\"ihrhbakrfpndopljhygc\", 4, 2))"
   ]
  },
  {
   "cell_type": "code",
   "execution_count": 21,
   "metadata": {},
   "outputs": [
    {
     "name": "stdout",
     "output_type": "stream",
     "text": [
      "happy\n"
     ]
    }
   ],
   "source": [
    "# 다른 사람 풀이\n",
    "# 예) solution(\"ihrhbakrfpndopljhygc\", 4, 2)\n",
    "def solution(my_string: str, m: int, c: int):\n",
    "    # m == 4\n",
    "    # c -1 == 1 부터 끝까지 m의 step만큼 추출\n",
    "    # 'i[h]rhb[a]krf[p]ndo[p]ljh[y]gc'\n",
    "    return my_string[c - 1 :: m]\n",
    "\n",
    "\n",
    "print(solution(\"ihrhbakrfpndopljhygc\", 4, 2))"
   ]
  }
 ],
 "metadata": {
  "kernelspec": {
   "display_name": "venv",
   "language": "python",
   "name": "python3"
  },
  "language_info": {
   "codemirror_mode": {
    "name": "ipython",
    "version": 3
   },
   "file_extension": ".py",
   "mimetype": "text/x-python",
   "name": "python",
   "nbconvert_exporter": "python",
   "pygments_lexer": "ipython3",
   "version": "3.11.5"
  },
  "orig_nbformat": 4
 },
 "nbformat": 4,
 "nbformat_minor": 2
}
