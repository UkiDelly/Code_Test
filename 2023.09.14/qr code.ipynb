{
 "cells": [
  {
   "cell_type": "markdown",
   "metadata": {},
   "source": [
    "# QR Code\n",
    "\n",
    "두 정수 q, r과 문자열 code가 주어질 때,<br>\n",
    "code의 각 인덱스를 q로 나누었을 때 나머지가 r인 위치의 문자를 앞에서부터 순서대로 <br>\n",
    "이어 붙인 문자열을 return 하는 solution 함수를 작성해 주세요.\n"
   ]
  },
  {
   "cell_type": "code",
   "execution_count": 13,
   "metadata": {},
   "outputs": [
    {
     "data": {
      "text/plain": [
       "'jerry'"
      ]
     },
     "execution_count": 13,
     "metadata": {},
     "output_type": "execute_result"
    }
   ],
   "source": [
    "def solution(q: int, r: int, code: str):\n",
    "    answer = \"\"\n",
    "    for i, v in enumerate(code):\n",
    "        if i % q == r:\n",
    "            answer += v\n",
    "    return answer\n",
    "\n",
    "\n",
    "solution(3, 1, \"qjnwezgrpirldywt\")"
   ]
  },
  {
   "cell_type": "code",
   "execution_count": null,
   "metadata": {},
   "outputs": [],
   "source": [
    "#  다른 대답 ( 이해가 잘되는거 )\n",
    "def solution(q, r, code):\n",
    "    answer = \"\"\n",
    "    for i in range(len(code)):\n",
    "        if i % q == r:\n",
    "            answer += code[i]\n",
    "    return answer"
   ]
  },
  {
   "cell_type": "code",
   "execution_count": null,
   "metadata": {},
   "outputs": [],
   "source": [
    "# 다른 대답 (이상적인 대답)\n",
    "def solution(q, r, code):\n",
    "    # code의 index를 q로 나누면 r이다.\n",
    "    # 바꿔 말하면 나머지 r에서 q만큼 index를 건너뛰면 나머지가 r인 index들만 나올것이다.\n",
    "    # 그 인덱스의 값을 slicing으로 가져온다.\n",
    "    return code[r::q]"
   ]
  }
 ],
 "metadata": {
  "kernelspec": {
   "display_name": "venv",
   "language": "python",
   "name": "python3"
  },
  "language_info": {
   "codemirror_mode": {
    "name": "ipython",
    "version": 3
   },
   "file_extension": ".py",
   "mimetype": "text/x-python",
   "name": "python",
   "nbconvert_exporter": "python",
   "pygments_lexer": "ipython3",
   "version": "3.11.5"
  },
  "orig_nbformat": 4
 },
 "nbformat": 4,
 "nbformat_minor": 2
}
