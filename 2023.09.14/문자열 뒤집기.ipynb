{
 "cells": [
  {
   "cell_type": "markdown",
   "metadata": {},
   "source": [
    "# 문자열 뒤집기\n",
    "\n",
    "문자열 my_string과 정수 s, e가 매개변수로 주어질 때,<br>\n",
    "my_string에서 인덱스 s부터 인덱스 e까지를 뒤집은 문자열을 return 하는 solution 함수를 작성해 주세요.\n"
   ]
  },
  {
   "cell_type": "code",
   "execution_count": 12,
   "metadata": {},
   "outputs": [
    {
     "name": "stdout",
     "output_type": "stream",
     "text": [
      "ProgrammerS123\n"
     ]
    }
   ],
   "source": [
    "def solution(my_string: str, s: int, e: int):\n",
    "    return my_string[:s] + my_string[s : e + 1][::-1] + my_string[e + 1 :]\n",
    "\n",
    "\n",
    "print(solution(\"Progra21Sremm3\", 6, 12))"
   ]
  }
 ],
 "metadata": {
  "kernelspec": {
   "display_name": "venv",
   "language": "python",
   "name": "python3"
  },
  "language_info": {
   "codemirror_mode": {
    "name": "ipython",
    "version": 3
   },
   "file_extension": ".py",
   "mimetype": "text/x-python",
   "name": "python",
   "nbconvert_exporter": "python",
   "pygments_lexer": "ipython3",
   "version": "3.11.5"
  },
  "orig_nbformat": 4
 },
 "nbformat": 4,
 "nbformat_minor": 2
}
