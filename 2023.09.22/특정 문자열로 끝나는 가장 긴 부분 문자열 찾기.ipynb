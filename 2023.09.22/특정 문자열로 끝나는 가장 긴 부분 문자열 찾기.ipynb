{
 "cells": [
  {
   "cell_type": "markdown",
   "metadata": {},
   "source": [
    "# 특정 문자열로 끝나는 가장 긴 부분 문자열 찾기\n",
    "\n",
    "문자열 myString과 pat가 주어집니다. myString의 부분 문자열중 pat로 끝나는 가장 긴 부분 문자열을 찾아서 return 하는 solution 함수를 완성해 주세요.\n"
   ]
  },
  {
   "cell_type": "code",
   "execution_count": 16,
   "metadata": {},
   "outputs": [
    {
     "name": "stdout",
     "output_type": "stream",
     "text": [
      "AbCdE\n",
      "None\n"
     ]
    }
   ],
   "source": [
    "import re\n",
    "\n",
    "\n",
    "def solution(myString: str, pat: str):\n",
    "    index = myString.rindex(pat)\n",
    "    return myString[: index + len(pat)]\n",
    "\n",
    "\n",
    "print(solution(\"AbCdEFG\", \"dE\"))"
   ]
  }
 ],
 "metadata": {
  "kernelspec": {
   "display_name": "venv",
   "language": "python",
   "name": "python3"
  },
  "language_info": {
   "codemirror_mode": {
    "name": "ipython",
    "version": 3
   },
   "file_extension": ".py",
   "mimetype": "text/x-python",
   "name": "python",
   "nbconvert_exporter": "python",
   "pygments_lexer": "ipython3",
   "version": "3.11.5"
  },
  "orig_nbformat": 4
 },
 "nbformat": 4,
 "nbformat_minor": 2
}
