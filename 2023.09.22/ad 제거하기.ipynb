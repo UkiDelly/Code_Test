{
 "cells": [
  {
   "cell_type": "markdown",
   "metadata": {},
   "source": [
    "# ad 제거하기\n",
    "\n",
    "문자열 배열 strArr가 주어집니다. 배열 내의 문자열 중 \"ad\"라는 부분 문자열을 포함하고 있는 모든 문자열을 제거하고 <br>\n",
    "남은 문자열을 순서를 유지하여 배열로 return 하는 solution 함수를 완성해 주세요.\n"
   ]
  },
  {
   "cell_type": "code",
   "execution_count": 1,
   "metadata": {},
   "outputs": [
    {
     "name": "stdout",
     "output_type": "stream",
     "text": [
      "['and', 'abcd']\n"
     ]
    }
   ],
   "source": [
    "def solution(strArr: list[str]):\n",
    "    return list(filter(lambda x: \"ad\" not in x, strArr))\n",
    "\n",
    "\n",
    "print(solution([\"and\",\"notad\",\"abcd\"]))"
   ]
  }
 ],
 "metadata": {
  "kernelspec": {
   "display_name": "venv",
   "language": "python",
   "name": "python3"
  },
  "language_info": {
   "codemirror_mode": {
    "name": "ipython",
    "version": 3
   },
   "file_extension": ".py",
   "mimetype": "text/x-python",
   "name": "python",
   "nbconvert_exporter": "python",
   "pygments_lexer": "ipython3",
   "version": "3.11.5"
  },
  "orig_nbformat": 4
 },
 "nbformat": 4,
 "nbformat_minor": 2
}
