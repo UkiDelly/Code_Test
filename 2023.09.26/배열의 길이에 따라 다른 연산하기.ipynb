{
 "cells": [
  {
   "cell_type": "markdown",
   "metadata": {},
   "source": [
    "# 배열의 길이에 따라 다른 연산하기\n",
    "\n",
    "정수 배열 arr과 정수 n이 매개변수로 주어집니다. <br>\n",
    "arr의 길이가 홀수라면 arr의 모든 짝수 인덱스 위치에 n을 더한 배열을, <br>\n",
    "arr의 길이가 짝수라면 arr의 모든 홀수 인덱스 위치에 n을 더한 배열을 return 하는 solution 함수를 작성해 주세요.\n"
   ]
  },
  {
   "cell_type": "code",
   "execution_count": 3,
   "metadata": {},
   "outputs": [
    {
     "name": "stdout",
     "output_type": "stream",
     "text": [
      "[444, 655, 666, 877]\n"
     ]
    }
   ],
   "source": [
    "def solution(arr: list[int], n: int):\n",
    "    l = len(arr)\n",
    "    for i in range(int(l % 2 == 0), l, 2):\n",
    "        arr[i] = arr[i] + n\n",
    "    return arr\n",
    "\n",
    "\n",
    "print(solution([444, 555, 666, 777], 100))"
   ]
  }
 ],
 "metadata": {
  "kernelspec": {
   "display_name": "venv",
   "language": "python",
   "name": "python3"
  },
  "language_info": {
   "codemirror_mode": {
    "name": "ipython",
    "version": 3
   },
   "file_extension": ".py",
   "mimetype": "text/x-python",
   "name": "python",
   "nbconvert_exporter": "python",
   "pygments_lexer": "ipython3",
   "version": "3.11.5"
  },
  "orig_nbformat": 4
 },
 "nbformat": 4,
 "nbformat_minor": 2
}
