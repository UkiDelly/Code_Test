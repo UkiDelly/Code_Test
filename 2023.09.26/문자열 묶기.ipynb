{
 "cells": [
  {
   "cell_type": "markdown",
   "metadata": {},
   "source": [
    "# 문자열 묶기\n",
    "\n",
    "문자열 배열 strArr이 주어집니다. <br>\n",
    "strArr의 원소들을 길이가 같은 문자열들끼리 그룹으로 묶었을 때 가장 개수가 많은 그룹의 크기를 return 하는 solution 함수를 완성해 주세요.\n"
   ]
  },
  {
   "cell_type": "code",
   "execution_count": 7,
   "metadata": {},
   "outputs": [
    {
     "name": "stdout",
     "output_type": "stream",
     "text": [
      "2\n"
     ]
    }
   ],
   "source": [
    "from collections import Counter\n",
    "\n",
    "\n",
    "def solution(strArr: list[str]):\n",
    "    d = {}\n",
    "\n",
    "    for s in strArr:\n",
    "        l = len(s)\n",
    "        d[str(l)] = d.get(str(l), 0) + 1\n",
    "    \n",
    "    return max(d.values())\n",
    "\n",
    "\n",
    "print(solution([\"a\", \"bc\", \"d\", \"efg\", \"hi\"]))"
   ]
  }
 ],
 "metadata": {
  "kernelspec": {
   "display_name": "venv",
   "language": "python",
   "name": "python3"
  },
  "language_info": {
   "codemirror_mode": {
    "name": "ipython",
    "version": 3
   },
   "file_extension": ".py",
   "mimetype": "text/x-python",
   "name": "python",
   "nbconvert_exporter": "python",
   "pygments_lexer": "ipython3",
   "version": "3.11.5"
  },
  "orig_nbformat": 4
 },
 "nbformat": 4,
 "nbformat_minor": 2
}
