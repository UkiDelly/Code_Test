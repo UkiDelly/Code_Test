{
 "cells": [
  {
   "cell_type": "markdown",
   "metadata": {},
   "source": [
    "# 배열의 길이를 2의 거듭제곱으로 만들기\n",
    "\n",
    "정수 배열 arr이 매개변수로 주어집니다. <br>\n",
    "arr의 길이가 2의 정수 거듭제곱이 되도록 arr 뒤에 정수 0을 추가하려고 합니다. <br>\n",
    "\n",
    "arr에 최소한의 개수로 0을 추가한 배열을 return 하는 solution 함수를 작성해 주세요.\n"
   ]
  },
  {
   "cell_type": "code",
   "execution_count": 20,
   "metadata": {},
   "outputs": [
    {
     "name": "stdout",
     "output_type": "stream",
     "text": [
      "False\n",
      "[1, 2, 3, 4, 5, 0]\n"
     ]
    }
   ],
   "source": [
    "import math\n",
    "\n",
    "\n",
    "def solution(arr: list[int]):\n",
    "    pw = 0\n",
    "    while len(arr) > math.pow(2, pw):\n",
    "        pw += 1\n",
    "    while len(arr) < math.pow(2, pw):\n",
    "        arr.append(0)\n",
    "    return arr\n",
    "\n",
    "\n",
    "print(solution([1, 2, 3, 4, 5]))"
   ]
  },
  {
   "cell_type": "code",
   "execution_count": null,
   "metadata": {},
   "outputs": [],
   "source": [
    "# 다른 대답\n",
    "def solution(arr):\n",
    "    a = 1\n",
    "    b = len(arr)\n",
    "    while a < b:\n",
    "        a *= 2\n",
    "    return arr + [0] * (a - b)\n",
    "\n",
    "\n",
    "\"\"\"\n",
    "임시 변수 a를 선언하여 1로 초기화\n",
    "arr의 길이를 b에 할당\n",
    "b 가 a 보다 큰 상황이면 a = a * 2 (2의 거듭제곱)\n",
    "a가 b보다 커지게 되면, a에서 b를 뺀 값\n",
    "즉, b (arr의 길이)가 가장 가까운 2의 거듭제곱인 a가 되기 위해 필요한 [0]의 갯수는 a-b이다.\n",
    "\"\"\""
   ]
  }
 ],
 "metadata": {
  "kernelspec": {
   "display_name": "venv",
   "language": "python",
   "name": "python3"
  },
  "language_info": {
   "codemirror_mode": {
    "name": "ipython",
    "version": 3
   },
   "file_extension": ".py",
   "mimetype": "text/x-python",
   "name": "python",
   "nbconvert_exporter": "python",
   "pygments_lexer": "ipython3",
   "version": "3.11.5"
  },
  "orig_nbformat": 4
 },
 "nbformat": 4,
 "nbformat_minor": 2
}
