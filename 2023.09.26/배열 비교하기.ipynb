{
 "cells": [
  {
   "cell_type": "markdown",
   "metadata": {},
   "source": [
    "# 배열 비교하기\n",
    "\n",
    "이 문제에서 두 정수 배열의 대소관계를 다음과 같이 정의합니다.\n",
    "\n",
    "- 두 배열의 길이가 다르다면, 배열의 길이가 긴 쪽이 더 큽니다.\n",
    "- 배열의 길이가 같다면 각 배열에 있는 모든 원소의 합을 비교하여 다르다면 더 큰 쪽이 크고, 같다면 같습니다.\n",
    "\n",
    "두 정수 배열 arr1과 arr2가 주어질 때, 위에서 정의한 배열의 대소관계에 대하여 arr2가 크다면 -1, arr1이 크다면 1,<br>\n",
    "두 배열이 같다면 0을 return 하는 solution 함수를 작성해 주세요.\n"
   ]
  },
  {
   "cell_type": "code",
   "execution_count": null,
   "metadata": {},
   "outputs": [],
   "source": [
    "def solution(arr1: list[int], arr2: list[int]):\n",
    "    if len(arr1) < len(arr2):\n",
    "        return -1\n",
    "    elif len(arr1) > len(arr2):\n",
    "        return 1\n",
    "    else:\n",
    "        s1, s2 = sum(arr1), sum(arr2)\n",
    "        if s1 > s2:\n",
    "            return 1\n",
    "        elif s1 < s2:\n",
    "            return -1\n",
    "        else:\n",
    "            return 0\n",
    "\n",
    "\n",
    "print(solution())"
   ]
  }
 ],
 "metadata": {
  "language_info": {
   "name": "python"
  },
  "orig_nbformat": 4
 },
 "nbformat": 4,
 "nbformat_minor": 2
}
