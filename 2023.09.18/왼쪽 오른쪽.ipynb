{
 "cells": [
  {
   "cell_type": "markdown",
   "metadata": {},
   "source": [
    "# 왼쪽 오른쪽\n",
    "\n",
    "문자열 리스트 str_list에는 \"u\", \"d\", \"l\", \"r\" 네 개의 문자열이 여러 개 저장되어 있습니다.<br>\n",
    "str_list에서 \"l\"과 \"r\" 중 먼저 나오는 문자열이 \"l\"이라면 해당 문자열을 기준으로 왼쪽에 있는 문자열들을 순서대로 담은 리스트를, <br>\n",
    "먼저 나오는 문자열이 \"r\"이라면 해당 문자열을 기준으로 오른쪽에 있는 문자열들을 순서대로 담은 리스트를 return하도록 solution 함수를 완성해주세요. <br>\n",
    "\"l\"이나 \"r\"이 없다면 빈 리스트를 return합니다\n"
   ]
  },
  {
   "cell_type": "code",
   "execution_count": 3,
   "metadata": {},
   "outputs": [
    {
     "name": "stdout",
     "output_type": "stream",
     "text": [
      "-1\n"
     ]
    }
   ],
   "source": [
    "def solution(str_list: list[str]):\n",
    "    for i in range(len(str_list)):\n",
    "        if str_list[i] == \"l\":\n",
    "            return str_list[:i]\n",
    "        elif str_list[i] == \"r\":\n",
    "            return str_list[i - 1 :]\n",
    "    return []\n",
    "\n",
    "\n",
    "print(solution([\"u\", \"u\", \"l\", \"r\"]))\n"
   ]
  }
 ],
 "metadata": {
  "kernelspec": {
   "display_name": "venv",
   "language": "python",
   "name": "python3"
  },
  "language_info": {
   "codemirror_mode": {
    "name": "ipython",
    "version": 3
   },
   "file_extension": ".py",
   "mimetype": "text/x-python",
   "name": "python",
   "nbconvert_exporter": "python",
   "pygments_lexer": "ipython3",
   "version": "3.11.5"
  },
  "orig_nbformat": 4
 },
 "nbformat": 4,
 "nbformat_minor": 2
}
