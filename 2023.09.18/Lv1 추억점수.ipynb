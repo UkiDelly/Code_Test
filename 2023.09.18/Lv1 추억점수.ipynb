{
 "cells": [
  {
   "cell_type": "markdown",
   "metadata": {},
   "source": [
    "# Lv 1 추억 점수\n",
    "\n",
    "사진들을 보며 추억에 젖어 있던 루는 사진별로 추억 점수를 매길려고 합니다. 사진 속에 나오는 인물의 그리움 점수를 모두 합산한 값이 해당 사진의 추억 점수가 됩니다. 예를 들어 사진 속 인물의 이름이 [\"may\", \"kein\", \"kain\"]이고 각 인물의 그리움 점수가 [5점, 10점, 1점]일 때 해당 사진의 추억 점수는 16(5 + 10 + 1)점이 됩니다. 다른 사진 속 인물의 이름이 [\"kali\", \"mari\", \"don\", \"tony\"]이고 [\"kali\", \"mari\", \"don\"]의 그리움 점수가 각각 [11점, 1점, 55점]]이고, \"tony\"는 그리움 점수가 없을 때, 이 사진의 추억 점수는 3명의 그리움 점수를 합한 67(11 + 1 + 55)점입니다.\n",
    "\n",
    "그리워하는 사람의 이름을 담은 문자열 배열 name, 각 사람별 그리움 점수를 담은 정수 배열 yearning, 각 사진에 찍힌 인물의 이름을 담은 이차원 문자열 배열 photo가 매개변수로 주어질 때, 사진들의 추억 점수를 photo에 주어진 순서대로 배열에 담아 return하는 solution 함수를 완성해주세요.\n"
   ]
  },
  {
   "cell_type": "code",
   "execution_count": 1,
   "metadata": {},
   "outputs": [
    {
     "name": "stdout",
     "output_type": "stream",
     "text": [
      "[19, 15, 6]\n"
     ]
    }
   ],
   "source": [
    "def solution(name: list[str], yearning: list[int], photo: list[list[str]]) -> list[int]:\n",
    "    answer = []\n",
    "    for ph in photo:\n",
    "        ph_score = 0\n",
    "        for person, score in zip(name, yearning):\n",
    "            if person in ph:\n",
    "                ph_score += score\n",
    "        answer.append(ph_score)\n",
    "    return answer\n",
    "\n",
    "\n",
    "print(\n",
    "    solution(\n",
    "        [\"may\", \"kein\", \"kain\", \"radi\"],\n",
    "        [5, 10, 1, 3],\n",
    "        [\n",
    "            [\"may\", \"kein\", \"kain\", \"radi\"],\n",
    "            [\"may\", \"kein\", \"brin\", \"deny\"],\n",
    "            [\"kon\", \"kain\", \"may\", \"coni\"],\n",
    "        ],\n",
    "    )\n",
    ")"
   ]
  },
  {
   "cell_type": "code",
   "execution_count": 3,
   "metadata": {},
   "outputs": [
    {
     "name": "stdout",
     "output_type": "stream",
     "text": [
      "[19, 15, 6]\n"
     ]
    }
   ],
   "source": [
    "def solution(name: list[str], yearning: list[int], photo: list[list[str]]) -> list[int]:\n",
    "    dct = dict(zip(name, yearning))\n",
    "    answer = []\n",
    "    for ph in photo:\n",
    "        score = 0\n",
    "        for person in ph:\n",
    "            if person in dct:\n",
    "                score += dct[person]\n",
    "        answer.append(score)\n",
    "    return answer\n",
    "\n",
    "\n",
    "print(\n",
    "    solution(\n",
    "        [\"may\", \"kein\", \"kain\", \"radi\"],\n",
    "        [5, 10, 1, 3],\n",
    "        [\n",
    "            [\"may\", \"kein\", \"kain\", \"radi\"],\n",
    "            [\"may\", \"kein\", \"brin\", \"deny\"],\n",
    "            [\"kon\", \"kain\", \"may\", \"coni\"],\n",
    "        ],\n",
    "    )\n",
    ")"
   ]
  }
 ],
 "metadata": {
  "kernelspec": {
   "display_name": "venv",
   "language": "python",
   "name": "python3"
  },
  "language_info": {
   "codemirror_mode": {
    "name": "ipython",
    "version": 3
   },
   "file_extension": ".py",
   "mimetype": "text/x-python",
   "name": "python",
   "nbconvert_exporter": "python",
   "pygments_lexer": "ipython3",
   "version": "3.11.5"
  },
  "orig_nbformat": 4
 },
 "nbformat": 4,
 "nbformat_minor": 2
}
