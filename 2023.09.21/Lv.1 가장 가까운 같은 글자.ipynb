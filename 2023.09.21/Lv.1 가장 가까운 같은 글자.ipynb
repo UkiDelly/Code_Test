{
 "cells": [
  {
   "cell_type": "markdown",
   "metadata": {},
   "source": [
    "# 가장 가까운 같은 글자\n",
    "\n",
    "문자열 s가 주어졌을 때, s의 각 위치마다 자신보다 앞에 나왔으면서, 자신과 가장 가까운 곳에 있는 같은 글자가 어디 있는지 알고 싶습니다. <br>\n",
    "예를 들어, s=\"banana\"라고 할 때, 각 글자들을 왼쪽부터 오른쪽으로 읽어 나가면서 다음과 같이 진행할 수 있습니다.<br>\n",
    "\n",
    "b는 처음 나왔기 때문에 자신의 앞에 같은 글자가 없습니다. 이는 -1로 표현합니다.<br>\n",
    "a는 처음 나왔기 때문에 자신의 앞에 같은 글자가 없습니다. 이는 -1로 표현합니다.<br>\n",
    "n은 처음 나왔기 때문에 자신의 앞에 같은 글자가 없습니다. 이는 -1로 표현합니다.<br>\n",
    "a는 자신보다 두 칸 앞에 a가 있습니다. 이는 2로 표현합니다.<br>\n",
    "n도 자신보다 두 칸 앞에 n이 있습니다. 이는 2로 표현합니다.<br>\n",
    "a는 자신보다 두 칸, 네 칸 앞에 a가 있습니다. 이 중 가까운 것은 두 칸 앞이고, 이는 2로 표현합니다.<br>\n",
    "따라서 최종 결과물은 [-1, -1, -1, 2, 2, 2]가 됩니다.<br>\n",
    "\n",
    "문자열 s이 주어질 때, 위와 같이 정의된 연산을 수행하는 함수 solution을 완성해주세요.\n"
   ]
  },
  {
   "cell_type": "code",
   "execution_count": null,
   "metadata": {},
   "outputs": [],
   "source": [
    "# 내 대답\n",
    "def solution(s: str):\n",
    "    position = {}\n",
    "    answer = []\n",
    "    for index, char in enumerate(s):\n",
    "        index += 1\n",
    "        index_before = position.get(char, None)\n",
    "\n",
    "        if index_before is None:\n",
    "            answer.append(-1)\n",
    "\n",
    "        else:\n",
    "            answer.append(index - index_before)\n",
    "        position[char] = index\n",
    "\n",
    "    return answer\n",
    "\n",
    "\n",
    "print(solution(\"banana\"))"
   ]
  },
  {
   "cell_type": "code",
   "execution_count": 2,
   "metadata": {},
   "outputs": [
    {
     "name": "stdout",
     "output_type": "stream",
     "text": [
      "[-1, -1, -1, 2, 2, 2]\n"
     ]
    }
   ],
   "source": [
    "# 다른 대답\n",
    "def solution(s: str):\n",
    "    position = {}\n",
    "    answer = []\n",
    "    for index, char in enumerate(s):\n",
    "        index += 1\n",
    "\n",
    "        if char not in position:\n",
    "            answer.append(-1)\n",
    "        else:\n",
    "            prev_index = position[char]\n",
    "            answer.append(index - prev_index)\n",
    "        position[char] = index\n",
    "    return answer\n",
    "\n",
    "\n",
    "print(solution(\"banana\"))"
   ]
  }
 ],
 "metadata": {
  "kernelspec": {
   "display_name": "venv",
   "language": "python",
   "name": "python3"
  },
  "language_info": {
   "codemirror_mode": {
    "name": "ipython",
    "version": 3
   },
   "file_extension": ".py",
   "mimetype": "text/x-python",
   "name": "python",
   "nbconvert_exporter": "python",
   "pygments_lexer": "ipython3",
   "version": "3.11.5"
  },
  "orig_nbformat": 4
 },
 "nbformat": 4,
 "nbformat_minor": 2
}
