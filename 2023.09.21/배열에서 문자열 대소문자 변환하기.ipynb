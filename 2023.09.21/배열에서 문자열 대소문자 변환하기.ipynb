{
 "cells": [
  {
   "cell_type": "markdown",
   "metadata": {},
   "source": [
    "# 배열에서 문자열 대소문자 변환하기\n"
   ]
  },
  {
   "cell_type": "code",
   "execution_count": 2,
   "metadata": {},
   "outputs": [
    {
     "name": "stdout",
     "output_type": "stream",
     "text": [
      "['aaa', 'BBB', 'ccc', 'DDD']\n"
     ]
    }
   ],
   "source": [
    "def solution(str_arr: list[str]):\n",
    "    for index, s in enumerate(str_arr):\n",
    "        if index % 2 != 0:\n",
    "            str_arr[index] = s.upper()\n",
    "        else:\n",
    "            str_arr[index] = s.lower()\n",
    "    return str_arr\n",
    "\n",
    "\n",
    "print(solution([\"AAA\", \"BBB\", \"CCC\", \"DDD\"]))"
   ]
  }
 ],
 "metadata": {
  "kernelspec": {
   "display_name": "venv",
   "language": "python",
   "name": "python3"
  },
  "language_info": {
   "codemirror_mode": {
    "name": "ipython",
    "version": 3
   },
   "file_extension": ".py",
   "mimetype": "text/x-python",
   "name": "python",
   "nbconvert_exporter": "python",
   "pygments_lexer": "ipython3",
   "version": "3.11.5"
  },
  "orig_nbformat": 4
 },
 "nbformat": 4,
 "nbformat_minor": 2
}
