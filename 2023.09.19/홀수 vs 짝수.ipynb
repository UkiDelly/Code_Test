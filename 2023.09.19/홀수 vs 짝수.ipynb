{
 "cells": [
  {
   "cell_type": "markdown",
   "metadata": {},
   "source": [
    "# 홀수 vs 짝수\n",
    "\n",
    "정수 리스트 num_list가 주어집니다. 가장 첫 번째 원소를 1번 원소라고 할 때,<br>\n",
    "홀수 번째 원소들의 합과 짝수 번째 원소들의 합 중 큰 값을 return 하도록 solution 함수를 완성해주세요.<br>\n",
    "두 값이 같을 경우 그 값을 return합니다.\n"
   ]
  },
  {
   "cell_type": "code",
   "execution_count": 1,
   "metadata": {},
   "outputs": [
    {
     "name": "stdout",
     "output_type": "stream",
     "text": [
      "17\n"
     ]
    }
   ],
   "source": [
    "def solution(num_list: list[int]):\n",
    "    odd_sum = sum(num_list[::2])\n",
    "    even_sum = sum(num_list[1::2])\n",
    "    if odd_sum == even_sum:\n",
    "        return even_sum\n",
    "    elif odd_sum > even_sum:\n",
    "        return odd_sum\n",
    "    else:\n",
    "        return even_sum\n",
    "\n",
    "\n",
    "print(solution([4, 2, 6, 1, 7, 6]))"
   ]
  },
  {
   "cell_type": "code",
   "execution_count": 3,
   "metadata": {},
   "outputs": [
    {
     "name": "stdout",
     "output_type": "stream",
     "text": [
      "17\n"
     ]
    }
   ],
   "source": [
    "# 다른 대답\n",
    "def solution(num_list):\n",
    "    return max(sum(num_list[::2]), sum(num_list[1::2]))\n",
    "\n",
    "\n",
    "print(solution([4, 2, 6, 1, 7, 6]))"
   ]
  }
 ],
 "metadata": {
  "kernelspec": {
   "display_name": "venv",
   "language": "python",
   "name": "python3"
  },
  "language_info": {
   "codemirror_mode": {
    "name": "ipython",
    "version": 3
   },
   "file_extension": ".py",
   "mimetype": "text/x-python",
   "name": "python",
   "nbconvert_exporter": "python",
   "pygments_lexer": "ipython3",
   "version": "3.11.5"
  },
  "orig_nbformat": 4
 },
 "nbformat": 4,
 "nbformat_minor": 2
}
