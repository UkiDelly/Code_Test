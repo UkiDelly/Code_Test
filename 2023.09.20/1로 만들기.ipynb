{
 "cells": [
  {
   "cell_type": "markdown",
   "metadata": {},
   "source": [
    "# 1로 만들기\n",
    "\n",
    "정수가 있을 때, 짝수라면 반으로 나누고, 홀수라면 1을 뺀 뒤 반으로 나누면, 마지막엔 1이 됩니다. 예를 들어 10이 있다면 다음과 같은 과정으로 1이 됩니다.<br>\n",
    "\n",
    "- 10 / 2 = 5\n",
    "- (5 - 1) / 2 = 4\n",
    "- 4 / 2 = 2\n",
    "- 2 / 2 = 1\n",
    "\n",
    "위와 같이 4번의 나누기 연산으로 1이 되었습니다.\n",
    "\n",
    "정수들이 담긴 리스트 num_list가 주어질 때, num_list의 모든 원소를 1로 만들기 위해서 필요한 나누기 연산의 횟수를 return하도록 solution 함수를 완성해주세요.\n"
   ]
  },
  {
   "cell_type": "code",
   "execution_count": null,
   "metadata": {},
   "outputs": [],
   "source": [
    "def solution(num_list: list):\n",
    "    answer = 0\n",
    "\n",
    "    def div(n: int):\n",
    "        if n == 1:\n",
    "            return\n",
    "        else:\n",
    "            nonlocal answer\n",
    "            answer += 1\n",
    "            if n % 2:\n",
    "                div((n - 1) / 2)\n",
    "            else:\n",
    "                div(n / 2)\n",
    "                \n",
    "    for n in num_list:\n",
    "        div(n)\n",
    "\n",
    "    return answer\n",
    "\n",
    "\n",
    "print(solution([12, 4, 15, 1, 14]))\n"
   ]
  },
  {
   "cell_type": "code",
   "execution_count": 1,
   "metadata": {},
   "outputs": [
    {
     "name": "stdout",
     "output_type": "stream",
     "text": [
      "11\n"
     ]
    }
   ],
   "source": [
    "def solution(num_list):\n",
    "    return sum(len(bin(i)) - 3 for i in num_list)\n",
    "\n",
    "print(solution([12, 4, 15, 1, 14]))"
   ]
  }
 ],
 "metadata": {
  "kernelspec": {
   "display_name": "venv",
   "language": "python",
   "name": "python3"
  },
  "language_info": {
   "codemirror_mode": {
    "name": "ipython",
    "version": 3
   },
   "file_extension": ".py",
   "mimetype": "text/x-python",
   "name": "python",
   "nbconvert_exporter": "python",
   "pygments_lexer": "ipython3",
   "version": "3.11.5"
  },
  "orig_nbformat": 4
 },
 "nbformat": 4,
 "nbformat_minor": 2
}
