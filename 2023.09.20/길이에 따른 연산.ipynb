{
 "cells": [
  {
   "cell_type": "markdown",
   "metadata": {},
   "source": [
    "# 길이에 따른 연산\n",
    "\n",
    "정수가 담긴 리스트 num_list가 주어질 때,<br>\n",
    "리스트의 길이가 11 이상이면 리스트에 있는 모든 원소의 합을 10 이하이면 모든 원소의 곱을 return하도록 solution 함수를 완성해주세요.\n"
   ]
  },
  {
   "cell_type": "code",
   "execution_count": 2,
   "metadata": {},
   "outputs": [
    {
     "name": "stdout",
     "output_type": "stream",
     "text": [
      "51\n",
      "120\n"
     ]
    }
   ],
   "source": [
    "from functools import reduce\n",
    "\n",
    "\n",
    "def solution(num_list: list[int]):\n",
    "    return (\n",
    "        sum(num_list) if len(num_list) >= 11 else reduce(lambda x, y: x * y, num_list)\n",
    "    )\n",
    "\n",
    "\n",
    "print(solution([3, 4, 5, 2, 5, 4, 6, 7, 3, 7, 2, 2, 1]))\n",
    "print(solution([2, 3, 4, 5]))"
   ]
  },
  {
   "cell_type": "code",
   "execution_count": null,
   "metadata": {},
   "outputs": [],
   "source": [
    "from math import prod\n",
    "\n",
    "\n",
    "# prod은 모든 요소의 곱을 구해준다.\n",
    "def solution(num_list):\n",
    "    return sum(num_list) if len(num_list) >= 11 else prod(num_list)"
   ]
  }
 ],
 "metadata": {
  "kernelspec": {
   "display_name": "venv",
   "language": "python",
   "name": "python3"
  },
  "language_info": {
   "codemirror_mode": {
    "name": "ipython",
    "version": 3
   },
   "file_extension": ".py",
   "mimetype": "text/x-python",
   "name": "python",
   "nbconvert_exporter": "python",
   "pygments_lexer": "ipython3",
   "version": "3.11.5"
  },
  "orig_nbformat": 4
 },
 "nbformat": 4,
 "nbformat_minor": 2
}
