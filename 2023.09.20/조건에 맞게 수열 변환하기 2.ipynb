{
 "cells": [
  {
   "cell_type": "markdown",
   "metadata": {},
   "source": [
    "# 조건에 맞게 수열 변환하기 2\n",
    "\n",
    "정수 배열 arr가 주어집니다. arr의 각 원소에 대해 값이 50보다 크거나 같은 짝수라면 2로 나누고, 50보다 작은 홀수라면 2를 곱하고 다시 1을 더합니다. <br>\n",
    "\n",
    "이러한 작업을 x번 반복한 결과인 배열을 arr(x)라고 표현했을 때, arr(x) = arr(x + 1)인 x가 항상 존재합니다. <br>\n",
    "이러한 x 중 가장 작은 값을 return 하는 solution 함수를 완성해 주세요.\n",
    "\n",
    "단, 두 배열에 대한 \"=\"는 두 배열의 크기가 서로 같으며, 같은 인덱스의 원소가 각각 서로 같음을 의미합니다.\n"
   ]
  },
  {
   "cell_type": "code",
   "execution_count": 9,
   "metadata": {},
   "outputs": [
    {
     "name": "stdout",
     "output_type": "stream",
     "text": [
      "[127, 191, 255, 415, 6399, 1599]\n",
      "None\n"
     ]
    }
   ],
   "source": [
    "def solution(arr: list[str]):\n",
    "    prev = []\n",
    "    curr = arr\n",
    "    answer = 0\n",
    "\n",
    "    def gen(nl: list[arr]):\n",
    "        for i in nl:\n",
    "            if i >= 50 and not i % 2:\n",
    "                yield int(i / 2)\n",
    "            elif i < 50 and i % 2:\n",
    "                yield (i * 2) + 1\n",
    "            else:\n",
    "                yield i\n",
    "\n",
    "    while True:\n",
    "        prev = curr\n",
    "        curr = list(gen(prev))\n",
    "        if curr == prev:\n",
    "            return answer\n",
    "        else:\n",
    "            answer += 1\n",
    "\n",
    "\n",
    "print(solution([1, 2, 3, 100, 99, 98]))"
   ]
  },
  {
   "cell_type": "code",
   "execution_count": null,
   "metadata": {},
   "outputs": [],
   "source": [
    "def solution(arr: list[int]):\n",
    "    answer = 0\n",
    "\n",
    "    def gen(nl: list[arr]):\n",
    "        for i in nl:\n",
    "            if i >= 50 and not i % 2:\n",
    "                yield int(i / 2)\n",
    "            elif i < 50 and i % 2:\n",
    "                yield (i * 2) + 1\n",
    "            else:\n",
    "                yield i\n",
    "\n",
    "    old = arr\n",
    "    while True:\n",
    "        new = list(gen(old))\n",
    "        if new == old:\n",
    "            return answer\n",
    "        else:\n",
    "            answer += 1\n",
    "            old = new"
   ]
  }
 ],
 "metadata": {
  "kernelspec": {
   "display_name": "venv",
   "language": "python",
   "name": "python3"
  },
  "language_info": {
   "codemirror_mode": {
    "name": "ipython",
    "version": 3
   },
   "file_extension": ".py",
   "mimetype": "text/x-python",
   "name": "python",
   "nbconvert_exporter": "python",
   "pygments_lexer": "ipython3",
   "version": "3.11.5"
  },
  "orig_nbformat": 4
 },
 "nbformat": 4,
 "nbformat_minor": 2
}
