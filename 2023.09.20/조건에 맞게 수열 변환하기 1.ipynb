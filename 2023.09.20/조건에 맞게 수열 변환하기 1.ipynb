{
 "cells": [
  {
   "cell_type": "markdown",
   "metadata": {},
   "source": [
    "# 조건에 맞게 수열 변환하기 1\n",
    "\n",
    "정수 배열 arr가 주어집니다. arr의 각 원소에 대해 값이 50보다 크거나 같은 짝수라면 2로 나누고,<br>\n",
    "50보다 작은 홀수라면 2를 곱합니다. 그 결과인 정수 배열을 return 하는 solution 함수를 완성해 주세요.\n"
   ]
  },
  {
   "cell_type": "code",
   "execution_count": 8,
   "metadata": {},
   "outputs": [
    {
     "name": "stdout",
     "output_type": "stream",
     "text": [
      "[2, 2, 6, 50, 99, 49]\n"
     ]
    }
   ],
   "source": [
    "def solution(arr: list[int]):\n",
    "    answer = []\n",
    "    for i in arr:\n",
    "        if i < 50 and i % 2 == 1:\n",
    "            answer.append(i * 2)\n",
    "        elif i >= 50 and i % 2 == 0:\n",
    "            answer.append(int(i / 2))\n",
    "        else:\n",
    "            answer.append(i)\n",
    "    return answer\n",
    "\n",
    "\n",
    "print(solution([1, 2, 3, 100, 99, 98]))"
   ]
  }
 ],
 "metadata": {
  "kernelspec": {
   "display_name": "venv",
   "language": "python",
   "name": "python3"
  },
  "language_info": {
   "codemirror_mode": {
    "name": "ipython",
    "version": 3
   },
   "file_extension": ".py",
   "mimetype": "text/x-python",
   "name": "python",
   "nbconvert_exporter": "python",
   "pygments_lexer": "ipython3",
   "version": "3.11.5"
  },
  "orig_nbformat": 4
 },
 "nbformat": 4,
 "nbformat_minor": 2
}
