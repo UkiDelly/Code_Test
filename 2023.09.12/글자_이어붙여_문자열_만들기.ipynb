{
 "cells": [
  {
   "cell_type": "markdown",
   "metadata": {},
   "source": [
    "# 글자 이어 붙여 문다열 만들기\n",
    "\n",
    "문자열 `my_string`과 정수 배열 `index_list`가 매개변수로 주어집니다.<br>\n",
    "`my_string`의 `index_list`의 원소들에 해당하는 인덱스의 글자들을 순서대로 이어 붙인 문자열을 return 하는 solution 함수를 작성해 주세요.\n"
   ]
  },
  {
   "cell_type": "code",
   "execution_count": 2,
   "metadata": {},
   "outputs": [
    {
     "name": "stdout",
     "output_type": "stream",
     "text": [
      "programmers\n"
     ]
    }
   ],
   "source": [
    "# 내 대답\n",
    "def solution(my_string: str, index_list: list[int]) -> str:\n",
    "    answer = \"\"\n",
    "    for i in index_list:\n",
    "        answer += my_string[i]\n",
    "    return answer\n",
    "\n",
    "\n",
    "print(solution(\"cvsgiorszzzmrpaqpe\", [16, 6, 5, 3, 12, 14, 11, 11, 17, 12, 7]))"
   ]
  },
  {
   "cell_type": "code",
   "execution_count": 3,
   "metadata": {},
   "outputs": [
    {
     "name": "stdout",
     "output_type": "stream",
     "text": [
      "programmers\n"
     ]
    }
   ],
   "source": [
    "# 다른 대답\n",
    "def solution(my_string: str, index_list: list[int]) -> str:\n",
    "    return ''.join(my_string[i] for i in index_list)\n",
    "\n",
    "print(solution(\"cvsgiorszzzmrpaqpe\", [16, 6, 5, 3, 12, 14, 11, 11, 17, 12, 7]))"
   ]
  }
 ],
 "metadata": {
  "kernelspec": {
   "display_name": "venv",
   "language": "python",
   "name": "python3"
  },
  "language_info": {
   "codemirror_mode": {
    "name": "ipython",
    "version": 3
   },
   "file_extension": ".py",
   "mimetype": "text/x-python",
   "name": "python",
   "nbconvert_exporter": "python",
   "pygments_lexer": "ipython3",
   "version": "3.11.5"
  },
  "orig_nbformat": 4
 },
 "nbformat": 4,
 "nbformat_minor": 2
}
