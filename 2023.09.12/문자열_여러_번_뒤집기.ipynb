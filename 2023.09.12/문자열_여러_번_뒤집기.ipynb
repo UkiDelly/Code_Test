{
 "cells": [
  {
   "cell_type": "markdown",
   "metadata": {},
   "source": [
    "# 문자열 여러 번 뒤집기\n",
    "\n",
    "문자열 `my_string`과 이차원 정수 배열 `queries`가 매개변수로 주어집니다.<br>\n",
    "`queries`의 원소는 [s, e] 형태로, `my_string`의 인덱스 s부터 인덱스 e까지를 뒤집으라는 의미입니다. <br>\n",
    "`my_string`에 `queries`의 명령을 순서대로 처리한 후의 문자열을 return 하는 solution 함수를 작성해 주세요.\n"
   ]
  },
  {
   "cell_type": "code",
   "execution_count": 2,
   "metadata": {},
   "outputs": [
    {
     "name": "stdout",
     "output_type": "stream",
     "text": [
      "m\n"
     ]
    }
   ],
   "source": [
    "# 내 대답\n",
    "def solution(my_string: str, queries: list[list[int]]) -> str:\n",
    "    for s, e in queries:\n",
    "        temp_list = my_string[s : e + 1]\n",
    "        my_string = my_string[:s] + temp_list[::-1] + my_string[e + 1 :]\n",
    "    return my_string\n",
    "\n",
    "\n",
    "print(solution(\"rermgorpsam\", [[2, 3], [0, 7], [5, 9], [6, 10]]))"
   ]
  },
  {
   "cell_type": "code",
   "execution_count": 3,
   "metadata": {},
   "outputs": [
    {
     "name": "stdout",
     "output_type": "stream",
     "text": [
      "programmers\n"
     ]
    }
   ],
   "source": [
    "# 다른 대답\n",
    "def solution(my_string: str, queries: list[list[int]]) -> str:\n",
    "    for s, e in queries:\n",
    "        my_string = my_string[:s] + my_string[s : e + 1][::-1] + my_string[e + 1 :]\n",
    "    return my_string\n",
    "\n",
    "\n",
    "print(solution(\"rermgorpsam\", [[2, 3], [0, 7], [5, 9], [6, 10]]))"
   ]
  },
  {
   "cell_type": "markdown",
   "metadata": {},
   "source": []
  }
 ],
 "metadata": {
  "kernelspec": {
   "display_name": "venv",
   "language": "python",
   "name": "python3"
  },
  "language_info": {
   "codemirror_mode": {
    "name": "ipython",
    "version": 3
   },
   "file_extension": ".py",
   "mimetype": "text/x-python",
   "name": "python",
   "nbconvert_exporter": "python",
   "pygments_lexer": "ipython3",
   "version": "3.11.5"
  },
  "orig_nbformat": 4
 },
 "nbformat": 4,
 "nbformat_minor": 2
}
