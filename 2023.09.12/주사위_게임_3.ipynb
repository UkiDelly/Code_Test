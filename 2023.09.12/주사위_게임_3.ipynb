{
 "cells": [
  {
   "cell_type": "markdown",
   "metadata": {},
   "source": [
    "# 주사위 게임 3\n",
    "\n",
    "1부터 6까지 숫자가 적힌 주사위가 네 개 있습니다. 네 주사위를 굴렸을 때 나온 숫자에 따라 다음과 같은 점수를 얻습니다.<br>\n",
    "네 주사위에서 나온 숫자가 모두 p로 같다면 1111 × p점을 얻습니다.<br>\n",
    "세 주사위에서 나온 숫자가 p로 같고 나머지 다른 주사위에서 나온 숫자가 q(p ≠ q)라면 (10 × p + q)2 점을 얻습니다.<br>\n",
    "주사위가 두 개씩 같은 값이 나오고, 나온 숫자를 각각 p, q(p ≠ q)라고 한다면 (p + q) × |p - q|점을 얻습니다.<br>\n",
    "어느 두 주사위에서 나온 숫자가 p로 같고 나머지 두 주사위에서 나온 숫자가 각각 p와 다른 q, r(q ≠ r)이라면 q × r점을 얻습니다.<br>\n",
    "네 주사위에 적힌 숫자가 모두 다르다면 나온 숫자 중 가장 작은 숫자 만큼의 점수를 얻습니다.<br>\n",
    "네 주사위를 굴렸을 때 나온 숫자가 정수 매개변수 a, b, c, d로 주어질 때, 얻는 점수를 return 하는 solution 함수를 작성해 주세요.<br>\n"
   ]
  },
  {
   "cell_type": "code",
   "execution_count": 8,
   "metadata": {},
   "outputs": [
    {
     "name": "stdout",
     "output_type": "stream",
     "text": [
      "2222\n",
      "1681\n",
      "27\n",
      "30\n",
      "2\n"
     ]
    }
   ],
   "source": [
    "def solution(a: int, b: int, c: int, d: int) -> int | None:\n",
    "    num_set: set[int] = set([a, b, c, d])\n",
    "    num_list: list[int] = sorted([a, b, c, d])\n",
    "\n",
    "    # 두 숫자가 같고(p) 나머지 두숫자가 다를때(q,r)면 (q*r)\n",
    "    def two_are_same(num_list: list[int]) -> int:\n",
    "        p = max(num_list, key=num_list.count)\n",
    "        q, r = filter(lambda x: x != p, num_list)\n",
    "        return q * r\n",
    "\n",
    "    # 세 숫자(p)가 같고 다른 숫자(q)라면 (10 * p + q) ** 2\n",
    "    def three_are_same(num_list: list[int]) -> int:\n",
    "        p = max(num_list, key=num_list.count)\n",
    "        q = min(num_list, key=num_list.count)\n",
    "        return (10 * p + q) ** 2\n",
    "\n",
    "    # 두 숫자가 같고(p) 나머지 두숫자가 다를때(q,r)면 (q*r)\n",
    "    # [1,1,3,4]\n",
    "    # [1,3,3,4]\n",
    "    # [1,2,3,3]\n",
    "    if len(num_set) == 3:\n",
    "        return two_are_same(num_list)\n",
    "\n",
    "    # 모든 숫자(p)가 같으면 1111*p\n",
    "    if len(num_set) == 1:\n",
    "        return 1111 * a\n",
    "\n",
    "    # 두숫자가 같고(p) 나머지 두 숫자도 같으면(q) (p+q) * abs(p-q)\n",
    "    if len(set(num_list[:2])) == 1 and len(set(num_list[2:])) == 1:\n",
    "        p = num_list[0]\n",
    "        q = num_list[-1]\n",
    "        return (p + q) * abs(p - q)\n",
    "\n",
    "    # 세 숫자(p)가 같고 다른 숫자(q)라면 (10 * p + q) ** 2\n",
    "    # [1,3,3,3]\n",
    "    # [1,1,1,3]\n",
    "    if len(num_set) == 2:\n",
    "        return three_are_same(num_list)\n",
    "\n",
    "    # 모든 숫자가 다르면 min(a,b,c,d)\n",
    "    if len(num_set) == 4:\n",
    "        return min(a, b, c, d)\n",
    "\n",
    "\n",
    "print(solution(2, 2, 2, 2))\n",
    "print(solution(4, 1, 4, 4))\n",
    "print(solution(6, 3, 3, 6))\n",
    "print(solution(2, 5, 2, 6))\n",
    "print(solution(6, 4, 2, 5))"
   ]
  },
  {
   "cell_type": "code",
   "execution_count": 10,
   "metadata": {},
   "outputs": [
    {
     "name": "stdout",
     "output_type": "stream",
     "text": [
      "2222\n",
      "1681\n",
      "27\n",
      "32\n",
      "2\n"
     ]
    }
   ],
   "source": [
    "# Counter를 사용한 대안\n",
    "from collections import Counter\n",
    "\n",
    "\n",
    "def solution(a: int, b: int, c: int, d: int) -> int | None:\n",
    "    counter: Counter[int] = Counter([a, b, c, d])\n",
    "    num_list: list[int] = sorted([a, b, c, d])\n",
    "    num_set: set[int] = set([a, b, c, d])\n",
    "\n",
    "    # 두 숫자가 같고(p) 나머지 두숫자가 다를때(q,r)면 (q*r)\n",
    "    if counter.most_common() == 3:\n",
    "        p = counter.most_common(1)[0][0]\n",
    "        q, r = filter(lambda x: x != p, num_set)\n",
    "        return q * r\n",
    "\n",
    "    # 모든 숫자(p)가 같으면 1111*p\n",
    "    if len(num_set) == 1:\n",
    "        return 1111 * a\n",
    "\n",
    "    # 두숫자가 같고(p) 나머지 두 숫자도 같으면(q) (p+q) * abs(p-q)\n",
    "    if counter.most_common(1)[0][1] == 2:\n",
    "        p = num_list[0]\n",
    "        q = num_list[-1]\n",
    "        return (p + q) * abs(p - q)\n",
    "\n",
    "    # 세 숫자(p)가 같고 다른 숫자(q)라면 (10 * p + q) ** 2\n",
    "    if counter.most_common(1)[0][1] == 3:\n",
    "        p = counter.most_common()[0][0]\n",
    "        q = counter.most_common()[-1][0]\n",
    "        return (10 * p + q) ** 2\n",
    "\n",
    "    # 모든 숫자가 다르면 min(a,b,c,d)\n",
    "    if len(num_set) == 4:\n",
    "        return min(num_set)\n",
    "\n",
    "\n",
    "print(solution(2, 2, 2, 2))\n",
    "print(solution(4, 1, 4, 4))\n",
    "print(solution(6, 3, 3, 6))\n",
    "print(solution(2, 5, 2, 6))\n",
    "print(solution(6, 4, 2, 5))"
   ]
  }
 ],
 "metadata": {
  "kernelspec": {
   "display_name": "venv",
   "language": "python",
   "name": "python3"
  },
  "language_info": {
   "codemirror_mode": {
    "name": "ipython",
    "version": 3
   },
   "file_extension": ".py",
   "mimetype": "text/x-python",
   "name": "python",
   "nbconvert_exporter": "python",
   "pygments_lexer": "ipython3",
   "version": "3.11.5"
  },
  "orig_nbformat": 4
 },
 "nbformat": 4,
 "nbformat_minor": 2
}
