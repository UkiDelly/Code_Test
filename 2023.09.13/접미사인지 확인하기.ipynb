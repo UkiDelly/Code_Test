{
 "cells": [
  {
   "cell_type": "markdown",
   "metadata": {},
   "source": [
    "# 접미사인지 확인하기\n",
    "\n",
    "어떤 문자열에 대해서 접미사는 특정 인덱스부터 시작하는 문자열을 의미합니다.<br>\n",
    "예를 들어, \"banana\"의 모든 접미사는 \"banana\", \"anana\", \"nana\", \"ana\", \"na\", \"a\"입니다.<br>\n",
    "문자열 `my_string`과 `is_suffix`가 주어질 때, `is_suffix`가 `my_string`의 접미사라면 1을, 아니면 0을 return 하는 solution 함수를 작성해 주세요.\n"
   ]
  },
  {
   "cell_type": "code",
   "execution_count": 3,
   "metadata": {},
   "outputs": [
    {
     "name": "stdout",
     "output_type": "stream",
     "text": [
      "0\n"
     ]
    }
   ],
   "source": [
    "def solution(my_string: str, is_suffix: str):\n",
    "    suffix = [my_string[i:] for i in range(len(my_string))]\n",
    "    return int(is_suffix in suffix)\n",
    "\n",
    "\n",
    "print(solution(\"banana\", \"nan\"))"
   ]
  },
  {
   "cell_type": "code",
   "execution_count": 4,
   "metadata": {},
   "outputs": [
    {
     "name": "stdout",
     "output_type": "stream",
     "text": [
      "0\n"
     ]
    }
   ],
   "source": [
    "# 다른 사람 풀이\n",
    "# endswith() 사용\n",
    "def solution(my_string: str, is_suffix: str):\n",
    "    return int(my_string.endswith(is_suffix))\n",
    "\n",
    "\n",
    "print(solution(\"banana\", \"nan\"))"
   ]
  }
 ],
 "metadata": {
  "kernelspec": {
   "display_name": "venv",
   "language": "python",
   "name": "python3"
  },
  "language_info": {
   "codemirror_mode": {
    "name": "ipython",
    "version": 3
   },
   "file_extension": ".py",
   "mimetype": "text/x-python",
   "name": "python",
   "nbconvert_exporter": "python",
   "pygments_lexer": "ipython3",
   "version": "3.11.5"
  },
  "orig_nbformat": 4
 },
 "nbformat": 4,
 "nbformat_minor": 2
}
