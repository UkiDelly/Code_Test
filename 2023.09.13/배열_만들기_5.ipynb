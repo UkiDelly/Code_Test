{
 "cells": [
  {
   "cell_type": "markdown",
   "metadata": {},
   "source": [
    "# 배열 만들기 5\n",
    "\n",
    "문자열 배열 `intStrs`와 정수 `k, s, l`가 주어집니다. `intStrs`의 원소는 숫자로 이루어져 있습니다.<br>\n",
    "배열 `intStrs`의 각 원소마다 `s`번 인덱스에서 시작하는 길이 `l`짜리 부분 문자열을 잘라내 정수로 변환합니다. <br>\n",
    "이때 변환한 정수값이 `k`보다 큰 값들을 담은 배열을 return 하는 solution 함수를 완성해 주세요.\n"
   ]
  },
  {
   "cell_type": "code",
   "execution_count": 1,
   "metadata": {},
   "outputs": [
    {
     "name": "stdout",
     "output_type": "stream",
     "text": [
      "[56789, 99999]\n"
     ]
    }
   ],
   "source": [
    "def solution(intStr: list[str], k: int, s: int, l: int):\n",
    "    answer = [int(val[s : s + l]) for val in intStr if int(val[s : s + l]) > k]\n",
    "    return answer\n",
    "\n",
    "\n",
    "print(solution([\"0123456789\", \"9876543210\", \"9999999999999\"], 50000, 5, 5))\n"
   ]
  }
 ],
 "metadata": {
  "kernelspec": {
   "display_name": "venv",
   "language": "python",
   "name": "python3"
  },
  "language_info": {
   "codemirror_mode": {
    "name": "ipython",
    "version": 3
   },
   "file_extension": ".py",
   "mimetype": "text/x-python",
   "name": "python",
   "nbconvert_exporter": "python",
   "pygments_lexer": "ipython3",
   "version": "3.11.5"
  },
  "orig_nbformat": 4
 },
 "nbformat": 4,
 "nbformat_minor": 2
}
