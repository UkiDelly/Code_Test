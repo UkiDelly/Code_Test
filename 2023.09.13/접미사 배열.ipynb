{
 "cells": [
  {
   "cell_type": "markdown",
   "metadata": {},
   "source": [
    "# 접미사 배열\n",
    "\n",
    "어떤 문자열에 대해서 접미사는 특정 인덱스부터 시작하는 문자열을 의미합니다.<br>\n",
    "예를 들어, \"banana\"의 모든 접미사는 \"banana\", \"anana\", \"nana\", \"ana\", \"na\", \"a\"입니다. <br>\n",
    "문자열 `my_string`이 매개변수로 주어질 때, `my_string`의 모든 접미사를 사전순으로 정렬한 문자열 배열을 return 하는 solution 함수를 작성해 주세요.\n"
   ]
  },
  {
   "cell_type": "code",
   "execution_count": 3,
   "metadata": {},
   "outputs": [
    {
     "name": "stdout",
     "output_type": "stream",
     "text": [
      "['a', 'ana', 'anana', 'banana', 'na', 'nana']\n"
     ]
    }
   ],
   "source": [
    "def solution(my_string: str):\n",
    "    answer = []\n",
    "    while len(my_string) > 0:\n",
    "        answer.append(my_string)\n",
    "        my_string = my_string[1:]\n",
    "    return sorted(answer)\n",
    "\n",
    "\n",
    "print(solution(\"banana\"))"
   ]
  },
  {
   "cell_type": "code",
   "execution_count": 5,
   "metadata": {},
   "outputs": [
    {
     "name": "stdout",
     "output_type": "stream",
     "text": [
      "['a', 'ana', 'anana', 'banana', 'na', 'nana']\n"
     ]
    }
   ],
   "source": [
    "# 다른 사람 풀이\n",
    "def solution(my_string: str):\n",
    "    return sorted(my_string[i:] for i in range(len(my_string)))\n",
    "\n",
    "\n",
    "print(solution(\"banana\"))"
   ]
  }
 ],
 "metadata": {
  "kernelspec": {
   "display_name": "venv",
   "language": "python",
   "name": "python3"
  },
  "language_info": {
   "codemirror_mode": {
    "name": "ipython",
    "version": 3
   },
   "file_extension": ".py",
   "mimetype": "text/x-python",
   "name": "python",
   "nbconvert_exporter": "python",
   "pygments_lexer": "ipython3",
   "version": "3.11.5"
  },
  "orig_nbformat": 4
 },
 "nbformat": 4,
 "nbformat_minor": 2
}
