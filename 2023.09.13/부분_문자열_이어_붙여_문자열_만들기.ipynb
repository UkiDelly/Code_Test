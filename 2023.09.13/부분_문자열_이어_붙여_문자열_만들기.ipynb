{
 "cells": [
  {
   "cell_type": "markdown",
   "metadata": {},
   "source": [
    "# 부분 문자열 이어 붙여 문자열 만들기\n",
    "\n",
    "길이가 같은 문자열 배열 `my_strings`와 이차원 정수 배열 `parts`가 매개변수로 주어집니다. <br>\n",
    "`parts[i]`는 `[s, e]` 형태로, `my_string[i]`의 인덱스 `s`부터 인덱스 `e`까지의 부분 문자열을 의미합니다. <br>\n",
    "각 `my_strings`의 원소의 `parts`에 해당하는 부분 문자열을 순서대로 이어 붙인 문자열을 return 하는 solution 함수를 작성해 주세요.\n"
   ]
  },
  {
   "cell_type": "code",
   "execution_count": 18,
   "metadata": {},
   "outputs": [
    {
     "name": "stdout",
     "output_type": "stream",
     "text": [
      "progame\n",
      "None\n"
     ]
    }
   ],
   "source": [
    "def solution(my_strings: list[str], parts: list[list[int]]):\n",
    "    answer: str = \"\"\n",
    "    for string, part in zip(my_strings, parts):\n",
    "        answer += string[part[0] : part[1]]\n",
    "    print(answer)\n",
    "\n",
    "print(\n",
    "    solution(\n",
    "        [\"progressive\", \"hamburger\", \"hammer\", \"ahocorasick\"],\n",
    "        [[0, 4], [1, 2], [3, 5], [7, 7]],\n",
    "    )\n",
    ")"
   ]
  }
 ],
 "metadata": {
  "kernelspec": {
   "display_name": "venv",
   "language": "python",
   "name": "python3"
  },
  "language_info": {
   "codemirror_mode": {
    "name": "ipython",
    "version": 3
   },
   "file_extension": ".py",
   "mimetype": "text/x-python",
   "name": "python",
   "nbconvert_exporter": "python",
   "pygments_lexer": "ipython3",
   "version": "3.11.5"
  },
  "orig_nbformat": 4
 },
 "nbformat": 4,
 "nbformat_minor": 2
}
