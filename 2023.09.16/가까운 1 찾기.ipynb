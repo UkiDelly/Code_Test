{
 "cells": [
  {
   "cell_type": "markdown",
   "metadata": {},
   "source": [
    "# 가까운 1 찾기\n",
    "\n",
    "정수 배열 arr가 주어집니다. 이때 arr의 원소는 1 또는 0입니다.<br>\n",
    "정수 idx가 주어졌을 때, idx보다 크면서 배열의 값이 1인 가장 작은 인덱스를 찾아서 반환하는 solution 함수를 완성해 주세요. <br>\n",
    "단, 만약 그러한 인덱스가 없다면 -1을 반환합니다.\n"
   ]
  },
  {
   "cell_type": "code",
   "execution_count": 4,
   "metadata": {},
   "outputs": [
    {
     "name": "stdout",
     "output_type": "stream",
     "text": [
      "-1\n"
     ]
    }
   ],
   "source": [
    "# 내 대답\n",
    "def solution(arr: list[int], idx: int):\n",
    "    tmp_list = arr[idx:]\n",
    "\n",
    "    try:\n",
    "        index = tmp_list.index(1)\n",
    "        return idx + index\n",
    "    except ValueError:\n",
    "        return -1\n",
    "\n",
    "\n",
    "print(solution([0, 0, 0, 1], 1))"
   ]
  },
  {
   "cell_type": "code",
   "execution_count": null,
   "metadata": {},
   "outputs": [],
   "source": [
    "# 이상적인 대답\n",
    "def solution(arr: list[int], idx: int):\n",
    "    try:\n",
    "        # .index()의 두번째 인자는 시작할 인덱스를 가르킨다.\n",
    "        return arr.index(1, idx)\n",
    "    except ValueError:\n",
    "        return -1\n",
    "\n",
    "\n",
    "print(solution([0, 0, 0, 1], 1))"
   ]
  }
 ],
 "metadata": {
  "kernelspec": {
   "display_name": "venv",
   "language": "python",
   "name": "python3"
  },
  "language_info": {
   "codemirror_mode": {
    "name": "ipython",
    "version": 3
   },
   "file_extension": ".py",
   "mimetype": "text/x-python",
   "name": "python",
   "nbconvert_exporter": "python",
   "pygments_lexer": "ipython3",
   "version": "3.11.5"
  },
  "orig_nbformat": 4
 },
 "nbformat": 4,
 "nbformat_minor": 2
}
