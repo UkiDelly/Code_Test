{
 "cells": [
  {
   "cell_type": "markdown",
   "metadata": {},
   "source": [
    "# 문자열 세기\n",
    "\n",
    "알파벳 대소문자로만 이루어진 문자열 my_string이 주어질 때,<br>\n",
    "my_string에서 'A'의 개수, my_string에서 'B'의 개수,..., my_string에서 'Z'의 개수,<br>\n",
    "my_string에서 'a'의 개수, my_string에서 'b'의 개수,..., <br>\n",
    "my_string에서 'z'의 개수를 순서대로 담은 길이 52의 정수 배열을 return 하는 solution 함수를 작성해 주세요.\n"
   ]
  },
  {
   "cell_type": "code",
   "execution_count": 2,
   "metadata": {},
   "outputs": [
    {
     "name": "stdout",
     "output_type": "stream",
     "text": [
      "[0, 0, 0, 0, 0, 0, 0, 0, 0, 0, 0, 0, 0, 0, 0, 1, 0, 0, 0, 0, 0, 0, 0, 0, 0, 0, 1, 0, 0, 0, 1, 0, 1, 0, 0, 0, 0, 0, 2, 0, 1, 0, 0, 3, 1, 0, 0, 0, 0, 0, 0, 0]\n"
     ]
    }
   ],
   "source": [
    "# 내 대답\n",
    "from collections import Counter\n",
    "\n",
    "\n",
    "def solution(my_string):\n",
    "    char_list: list = []\n",
    "    for alph in range(65, 65 + 26):\n",
    "        char_list.append((chr(alph), 0))\n",
    "\n",
    "    for alph in range(97, 97 + 26):\n",
    "        char_list.append((chr(alph), 0))\n",
    "\n",
    "    counter = Counter(my_string)\n",
    "\n",
    "    for alph, count in counter.items():\n",
    "        for idx, char in enumerate(char_list):\n",
    "            if char[0] == alph:\n",
    "                char_list[idx] = (alph, count)\n",
    "\n",
    "    char_list = [x[1] for x in char_list]\n",
    "    return char_list\n",
    "\n",
    "\n",
    "print(solution(\"Programmers\"))"
   ]
  },
  {
   "cell_type": "code",
   "execution_count": 6,
   "metadata": {},
   "outputs": [
    {
     "name": "stdout",
     "output_type": "stream",
     "text": [
      "[0, 0, 0, 0, 0, 0, 0, 0, 0, 0, 0, 0, 0, 0, 0, 1, 0, 0, 0, 0, 0, 0, 0, 0, 0, 0, 1, 0, 0, 0, 1, 0, 1, 0, 0, 0, 0, 0, 2, 0, 1, 0, 0, 3, 1, 0, 0, 0, 0, 0, 0, 0]\n"
     ]
    }
   ],
   "source": [
    "# 다른 대답 1\n",
    "def solution(my_string: str):\n",
    "    alphabet = \"abcdefghijklmnopqrstuvwxyz\"\n",
    "    return [my_string.count(alph) for alph in alphabet.upper() + alphabet]\n",
    "\n",
    "\n",
    "print(solution(\"Programmers\"))"
   ]
  }
 ],
 "metadata": {
  "kernelspec": {
   "display_name": "venv",
   "language": "python",
   "name": "python3"
  },
  "language_info": {
   "codemirror_mode": {
    "name": "ipython",
    "version": 3
   },
   "file_extension": ".py",
   "mimetype": "text/x-python",
   "name": "python",
   "nbconvert_exporter": "python",
   "pygments_lexer": "ipython3",
   "version": "3.11.5"
  },
  "orig_nbformat": 4
 },
 "nbformat": 4,
 "nbformat_minor": 2
}
