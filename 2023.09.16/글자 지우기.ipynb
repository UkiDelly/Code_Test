{
 "cells": [
  {
   "cell_type": "markdown",
   "metadata": {},
   "source": [
    "# 글자 지우기\n",
    "\n",
    "문자열 my_string과 정수 배열 indices가 주어질 때,<br>\n",
    "my_string에서 indices의 원소에 해당하는 인덱스의 글자를 지우고 이어 붙인 문자열을 return 하는 solution 함수를 작성해 주세요\n"
   ]
  },
  {
   "cell_type": "code",
   "execution_count": 3,
   "metadata": {},
   "outputs": [
    {
     "name": "stdout",
     "output_type": "stream",
     "text": [
      "programmers\n"
     ]
    }
   ],
   "source": [
    "def solution(my_string: str, indices: list[int]):\n",
    "    my_string = list(my_string)\n",
    "    for i in indices:\n",
    "        my_string[i] = \"\"\n",
    "    return \"\".join(my_string)\n",
    "\n",
    "\n",
    "print(solution(\"apporoograpemmemprs\", [1, 16, 6, 15, 0, 10, 11, 3]))"
   ]
  },
  {
   "cell_type": "code",
   "execution_count": 6,
   "metadata": {},
   "outputs": [
    {
     "name": "stdout",
     "output_type": "stream",
     "text": [
      "programmers\n",
      "None\n"
     ]
    }
   ],
   "source": [
    "# 다른 대답\n",
    "def solution(my_string: str, indices: list[int]):\n",
    "    answer = \"\".join([v for i, v in enumerate(my_string) if i not in indices])\n",
    "    print(answer)\n",
    "\n",
    "\n",
    "print(solution(\"apporoograpemmemprs\", [1, 16, 6, 15, 0, 10, 11, 3]))"
   ]
  }
 ],
 "metadata": {
  "kernelspec": {
   "display_name": "venv",
   "language": "python",
   "name": "python3"
  },
  "language_info": {
   "codemirror_mode": {
    "name": "ipython",
    "version": 3
   },
   "file_extension": ".py",
   "mimetype": "text/x-python",
   "name": "python",
   "nbconvert_exporter": "python",
   "pygments_lexer": "ipython3",
   "version": "3.11.5"
  },
  "orig_nbformat": 4
 },
 "nbformat": 4,
 "nbformat_minor": 2
}
