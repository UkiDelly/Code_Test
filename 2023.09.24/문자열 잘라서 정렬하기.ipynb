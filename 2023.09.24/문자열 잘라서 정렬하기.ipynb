{
 "cells": [
  {
   "cell_type": "markdown",
   "metadata": {},
   "source": [
    "# 문자열 잘라서 정렬하기\n",
    "\n",
    "문자열 myString이 주어집니다. <br>\n",
    "\"x\"를 기준으로 해당 문자열을 잘라내 배열을 만든 후 사전순으로 정렬한 배열을 return 하는 solution 함수를 완성해 주세요.\n",
    "\n",
    "단, 빈 문자열은 반환할 배열에 넣지 않습니다.\n"
   ]
  },
  {
   "cell_type": "code",
   "execution_count": 16,
   "metadata": {},
   "outputs": [
    {
     "name": "stdout",
     "output_type": "stream",
     "text": [
      "['a', 'b', 'c', 'd']\n",
      "None\n"
     ]
    }
   ],
   "source": [
    "def solution(myString: str):\n",
    "    temp = filter(lambda x: len(x) >= 1, myString.split(\"x\"))\n",
    "    answer = sorted(temp)\n",
    "    return answer\n",
    "\n",
    "\n",
    "print(solution(\"axbxcxdx\"))"
   ]
  },
  {
   "cell_type": "code",
   "execution_count": 17,
   "metadata": {},
   "outputs": [
    {
     "name": "stdout",
     "output_type": "stream",
     "text": [
      "['a', 'b', 'c', 'd']\n"
     ]
    }
   ],
   "source": [
    "def solution(myString:str):\n",
    "    return sorted(ch for ch in myString.split('x') if ch)\n",
    "\n",
    "print(solution(\"axbxcxdx\"))"
   ]
  }
 ],
 "metadata": {
  "kernelspec": {
   "display_name": "venv",
   "language": "python",
   "name": "python3"
  },
  "language_info": {
   "codemirror_mode": {
    "name": "ipython",
    "version": 3
   },
   "file_extension": ".py",
   "mimetype": "text/x-python",
   "name": "python",
   "nbconvert_exporter": "python",
   "pygments_lexer": "ipython3",
   "version": "3.11.5"
  },
  "orig_nbformat": 4
 },
 "nbformat": 4,
 "nbformat_minor": 2
}
