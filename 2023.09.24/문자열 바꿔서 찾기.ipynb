{
 "cells": [
  {
   "cell_type": "markdown",
   "metadata": {},
   "source": [
    "# 문자열 바꿔서 찾기\n",
    "\n",
    "문자 \"A\"와 \"B\"로 이루어진 문자열 myString과 pat가 주어집니다.<br>\n",
    "myString의 \"A\"를 \"B\"로, \"B\"를 \"A\"로 바꾼 문자열의 연속하는 부분 문자열 중 pat이 있으면 1을 아니면 0을 return 하는 solution 함수를 완성하세요.\n"
   ]
  },
  {
   "cell_type": "code",
   "execution_count": 5,
   "metadata": {},
   "outputs": [
    {
     "name": "stdout",
     "output_type": "stream",
     "text": [
      "1\n"
     ]
    }
   ],
   "source": [
    "def solution(myString: str, pat: str):\n",
    "    new_string = \"\"\n",
    "    for i in myString:\n",
    "        if i == \"A\":\n",
    "            new_string += \"B\"\n",
    "        else:\n",
    "            new_string += \"A\"\n",
    "    if pat in new_string:\n",
    "        return 1\n",
    "    else:\n",
    "        return 0\n",
    "\n",
    "\n",
    "print(solution(\"ABBAA\", \"AABB\"))"
   ]
  }
 ],
 "metadata": {
  "kernelspec": {
   "display_name": "venv",
   "language": "python",
   "name": "python3"
  },
  "language_info": {
   "codemirror_mode": {
    "name": "ipython",
    "version": 3
   },
   "file_extension": ".py",
   "mimetype": "text/x-python",
   "name": "python",
   "nbconvert_exporter": "python",
   "pygments_lexer": "ipython3",
   "version": "3.11.5"
  },
  "orig_nbformat": 4
 },
 "nbformat": 4,
 "nbformat_minor": 2
}
