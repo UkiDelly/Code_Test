{
 "cells": [
  {
   "cell_type": "markdown",
   "metadata": {},
   "source": [
    "# 전국 대회 선발 고사\n",
    "\n",
    "0번부터 n - 1번까지 n명의 학생 중 3명을 선발하는 전국 대회 선발 고사를 보았습니다. <br>\n",
    "등수가 높은 3명을 선발해야 하지만, 개인 사정으로 전국 대회에 참여하지 못하는 학생들이 있어 참여가 가능한 학생 중 등수가 높은 3명을 선발하기로 했습니다.\n",
    "\n",
    "각 학생들의 선발 고사 등수를 담은 정수 배열 rank와 전국 대회 참여 가능 여부가 담긴 boolean 배열 attendance가 매개변수로 주어집니다. <br>\n",
    "전국 대회에 선발된 학생 번호들을 등수가 높은 순서대로 각각 a, b, c번이라고 할 때 10000 × a + 100 × b + c를 return 하는 solution 함수를 작성해 주세요.\n"
   ]
  },
  {
   "cell_type": "code",
   "execution_count": 11,
   "metadata": {},
   "outputs": [
    {
     "ename": "IndexError",
     "evalue": "tuple index out of range",
     "output_type": "error",
     "traceback": [
      "\u001b[0;31m---------------------------------------------------------------------------\u001b[0m",
      "\u001b[0;31mIndexError\u001b[0m                                Traceback (most recent call last)",
      "\u001b[1;32m/Users/daehyeon/Documents/coding_files/algorythm/20231016/전국 대회 선발 고사.ipynb 셀 2\u001b[0m line \u001b[0;36m8\n\u001b[1;32m      <a href='vscode-notebook-cell:/Users/daehyeon/Documents/coding_files/algorythm/20231016/%EC%A0%84%EA%B5%AD%20%EB%8C%80%ED%9A%8C%20%EC%84%A0%EB%B0%9C%20%EA%B3%A0%EC%82%AC.ipynb#W0sZmlsZQ%3D%3D?line=3'>4</a>\u001b[0m     indexs \u001b[39m=\u001b[39m \u001b[39mtuple\u001b[39m(\u001b[39mmap\u001b[39m(\u001b[39mlambda\u001b[39;00m x: rank\u001b[39m.\u001b[39mindex(x[\u001b[39m0\u001b[39m]), students))\n\u001b[1;32m      <a href='vscode-notebook-cell:/Users/daehyeon/Documents/coding_files/algorythm/20231016/%EC%A0%84%EA%B5%AD%20%EB%8C%80%ED%9A%8C%20%EC%84%A0%EB%B0%9C%20%EA%B3%A0%EC%82%AC.ipynb#W0sZmlsZQ%3D%3D?line=4'>5</a>\u001b[0m     \u001b[39mreturn\u001b[39;00m (\u001b[39m10000\u001b[39m \u001b[39m*\u001b[39m indexs[\u001b[39m0\u001b[39m]) \u001b[39m+\u001b[39m (\u001b[39m100\u001b[39m \u001b[39m*\u001b[39m indexs[\u001b[39m1\u001b[39m]) \u001b[39m+\u001b[39m (indexs[\u001b[39m2\u001b[39m])\n\u001b[0;32m----> <a href='vscode-notebook-cell:/Users/daehyeon/Documents/coding_files/algorythm/20231016/%EC%A0%84%EA%B5%AD%20%EB%8C%80%ED%9A%8C%20%EC%84%A0%EB%B0%9C%20%EA%B3%A0%EC%82%AC.ipynb#W0sZmlsZQ%3D%3D?line=7'>8</a>\u001b[0m solution([\u001b[39m3\u001b[39;49m, \u001b[39m7\u001b[39;49m, \u001b[39m2\u001b[39;49m, \u001b[39m5\u001b[39;49m, \u001b[39m4\u001b[39;49m, \u001b[39m6\u001b[39;49m, \u001b[39m1\u001b[39;49m], [\u001b[39mFalse\u001b[39;49;00m, \u001b[39mTrue\u001b[39;49;00m, \u001b[39mTrue\u001b[39;49;00m, \u001b[39mTrue\u001b[39;49;00m, \u001b[39mTrue\u001b[39;49;00m, \u001b[39mFalse\u001b[39;49;00m, \u001b[39mFalse\u001b[39;49;00m])\n",
      "\u001b[1;32m/Users/daehyeon/Documents/coding_files/algorythm/20231016/전국 대회 선발 고사.ipynb 셀 2\u001b[0m line \u001b[0;36m5\n\u001b[1;32m      <a href='vscode-notebook-cell:/Users/daehyeon/Documents/coding_files/algorythm/20231016/%EC%A0%84%EA%B5%AD%20%EB%8C%80%ED%9A%8C%20%EC%84%A0%EB%B0%9C%20%EA%B3%A0%EC%82%AC.ipynb#W0sZmlsZQ%3D%3D?line=2'>3</a>\u001b[0m students \u001b[39m=\u001b[39m \u001b[39mfilter\u001b[39m(\u001b[39mlambda\u001b[39;00m x: x[\u001b[39m1\u001b[39m] \u001b[39m==\u001b[39m \u001b[39mTrue\u001b[39;00m, rank_att)\n\u001b[1;32m      <a href='vscode-notebook-cell:/Users/daehyeon/Documents/coding_files/algorythm/20231016/%EC%A0%84%EA%B5%AD%20%EB%8C%80%ED%9A%8C%20%EC%84%A0%EB%B0%9C%20%EA%B3%A0%EC%82%AC.ipynb#W0sZmlsZQ%3D%3D?line=3'>4</a>\u001b[0m indexs \u001b[39m=\u001b[39m \u001b[39mtuple\u001b[39m(\u001b[39mmap\u001b[39m(\u001b[39mlambda\u001b[39;00m x: rank\u001b[39m.\u001b[39mindex(x[\u001b[39m0\u001b[39m]), students))\n\u001b[0;32m----> <a href='vscode-notebook-cell:/Users/daehyeon/Documents/coding_files/algorythm/20231016/%EC%A0%84%EA%B5%AD%20%EB%8C%80%ED%9A%8C%20%EC%84%A0%EB%B0%9C%20%EA%B3%A0%EC%82%AC.ipynb#W0sZmlsZQ%3D%3D?line=4'>5</a>\u001b[0m \u001b[39mreturn\u001b[39;00m (\u001b[39m10000\u001b[39m \u001b[39m*\u001b[39m indexs[\u001b[39m0\u001b[39m]) \u001b[39m+\u001b[39m (\u001b[39m100\u001b[39m \u001b[39m*\u001b[39m indexs[\u001b[39m1\u001b[39;49m]) \u001b[39m+\u001b[39m (indexs[\u001b[39m2\u001b[39m])\n",
      "\u001b[0;31mIndexError\u001b[0m: tuple index out of range"
     ]
    }
   ],
   "source": [
    "def solution(rank: list[int], attendance: list[bool]):\n",
    "    rank_att = sorted(zip(rank, attendance), key=lambda x: x[0])\n",
    "    students = list(filter(lambda x: x[1] == True, rank_att))[:3]\n",
    "    indexs = tuple(map(lambda x: rank.index(x[0]), students))\n",
    "    return (10000 * indexs[0]) + (100 * indexs[1]) + (indexs[2])\n",
    "\n",
    "\n",
    "solution([3, 7, 2, 5, 4, 6, 1], [False, True, True, True, True, False, False])"
   ]
  },
  {
   "cell_type": "code",
   "execution_count": null,
   "metadata": {},
   "outputs": [],
   "source": [
    "# 다른 풀이\n",
    "def solution(rank, attendance):\n",
    "    arr = sorted([(x, i) for i, x in enumerate(rank) if attendance[i]])\n",
    "    return arr[0][1] * 10000 + arr[1][1] * 100 + arr[2][1]"
   ]
  }
 ],
 "metadata": {
  "kernelspec": {
   "display_name": ".venv",
   "language": "python",
   "name": "python3"
  },
  "language_info": {
   "codemirror_mode": {
    "name": "ipython",
    "version": 3
   },
   "file_extension": ".py",
   "mimetype": "text/x-python",
   "name": "python",
   "nbconvert_exporter": "python",
   "pygments_lexer": "ipython3",
   "version": "3.12.0"
  }
 },
 "nbformat": 4,
 "nbformat_minor": 2
}
